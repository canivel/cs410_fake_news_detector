{
 "cells": [
  {
   "cell_type": "code",
   "execution_count": 4,
   "metadata": {},
   "outputs": [
    {
     "name": "stdout",
     "output_type": "stream",
     "text": [
      "Normalize text\n",
      "Extract wordbags\n",
      "Normalize text\n",
      "Extract wordbags\n"
     ]
    },
    {
     "data": {
      "text/plain": [
       "array([0.50708625])"
      ]
     },
     "execution_count": 4,
     "metadata": {},
     "output_type": "execute_result"
    }
   ],
   "source": [
    "import wordbatch\n",
    "from wordbatch.models import FTRL\n",
    "from wordbatch.extractors import WordBag\n",
    "wb= wordbatch.WordBatch(extractor=(WordBag, {\"hash_ngrams\":2, \"hash_ngrams_weights\":[0.5, -1.0], \"hash_size\":2**23, \n",
    "                                             \"norm\":'l2', \"tf\":'log', \"idf\":50.0}))\n",
    "clf= FTRL(alpha=1.0, beta=1.0, L1=0.00001, L2=1.0, D=2 ** 25, iters=1)\n",
    "\n",
    "train_texts= [\"Cut down a tree with a herring? It can't be done.\", \"Don't say that word.\", \"How can we not say the word if you don't tell us what it is?\"]\n",
    "train_labels= [1, 0, 1]\n",
    "test_texts= [\"Don't say that word.\"]\n",
    "\n",
    "clf.fit(wb.transform(train_texts), train_labels)\n",
    "preds= clf.predict(wb.transform(test_texts))\n",
    "preds"
   ]
  },
  {
   "cell_type": "code",
   "execution_count": 6,
   "metadata": {},
   "outputs": [
    {
     "data": {
      "text/plain": [
       "array([0.45800374])"
      ]
     },
     "execution_count": 6,
     "metadata": {},
     "output_type": "execute_result"
    }
   ],
   "source": [
    "from sklearn.feature_extraction.text import HashingVectorizer\n",
    "\n",
    "vectorizer = HashingVectorizer(decode_error='ignore', n_features=2 ** 23,\n",
    "                                   non_negative=False, ngram_range=(1, 2), norm='l2')\n",
    "\n",
    "clf.fit(vectorizer.transform(train_texts), train_labels)\n",
    "preds= clf.predict(vectorizer.transform(test_texts))\n",
    "preds"
   ]
  },
  {
   "cell_type": "code",
   "execution_count": 7,
   "metadata": {},
   "outputs": [
    {
     "data": {
      "text/plain": [
       "<1x8388608 sparse matrix of type '<class 'numpy.float64'>'\n",
       "\twith 7 stored elements in Compressed Sparse Row format>"
      ]
     },
     "execution_count": 7,
     "metadata": {},
     "output_type": "execute_result"
    }
   ],
   "source": [
    "vectorizer.transform(test_texts)"
   ]
  },
  {
   "cell_type": "code",
   "execution_count": null,
   "metadata": {},
   "outputs": [],
   "source": []
  }
 ],
 "metadata": {
  "kernelspec": {
   "display_name": "Python 3",
   "language": "python",
   "name": "python3"
  },
  "language_info": {
   "codemirror_mode": {
    "name": "ipython",
    "version": 3
   },
   "file_extension": ".py",
   "mimetype": "text/x-python",
   "name": "python",
   "nbconvert_exporter": "python",
   "pygments_lexer": "ipython3",
   "version": "3.7.0"
  }
 },
 "nbformat": 4,
 "nbformat_minor": 2
}
